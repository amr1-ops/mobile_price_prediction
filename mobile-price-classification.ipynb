{
 "cells": [
  {
   "cell_type": "code",
   "execution_count": 1,
   "metadata": {
    "execution": {
     "iopub.execute_input": "2023-01-08T09:31:35.874409Z",
     "iopub.status.busy": "2023-01-08T09:31:35.873698Z",
     "iopub.status.idle": "2023-01-08T09:31:35.88115Z",
     "shell.execute_reply": "2023-01-08T09:31:35.879623Z",
     "shell.execute_reply.started": "2023-01-08T09:31:35.874356Z"
    }
   },
   "outputs": [],
   "source": [
    "import numpy as np\n",
    "import pandas as pd\n",
    "import matplotlib.pyplot as plt\n",
    "import seaborn as sns"
   ]
  },
  {
   "cell_type": "code",
   "execution_count": 2,
   "metadata": {
    "execution": {
     "iopub.execute_input": "2023-01-08T09:31:35.884179Z",
     "iopub.status.busy": "2023-01-08T09:31:35.883629Z",
     "iopub.status.idle": "2023-01-08T09:31:35.922795Z",
     "shell.execute_reply": "2023-01-08T09:31:35.921417Z",
     "shell.execute_reply.started": "2023-01-08T09:31:35.884137Z"
    }
   },
   "outputs": [
    {
     "data": {
      "text/html": [
       "<div>\n",
       "<style scoped>\n",
       "    .dataframe tbody tr th:only-of-type {\n",
       "        vertical-align: middle;\n",
       "    }\n",
       "\n",
       "    .dataframe tbody tr th {\n",
       "        vertical-align: top;\n",
       "    }\n",
       "\n",
       "    .dataframe thead th {\n",
       "        text-align: right;\n",
       "    }\n",
       "</style>\n",
       "<table border=\"1\" class=\"dataframe\">\n",
       "  <thead>\n",
       "    <tr style=\"text-align: right;\">\n",
       "      <th></th>\n",
       "      <th>battery_power</th>\n",
       "      <th>blue</th>\n",
       "      <th>clock_speed</th>\n",
       "      <th>dual_sim</th>\n",
       "      <th>fc</th>\n",
       "      <th>four_g</th>\n",
       "      <th>int_memory</th>\n",
       "      <th>m_dep</th>\n",
       "      <th>mobile_wt</th>\n",
       "      <th>n_cores</th>\n",
       "      <th>...</th>\n",
       "      <th>px_height</th>\n",
       "      <th>px_width</th>\n",
       "      <th>ram</th>\n",
       "      <th>sc_h</th>\n",
       "      <th>sc_w</th>\n",
       "      <th>talk_time</th>\n",
       "      <th>three_g</th>\n",
       "      <th>touch_screen</th>\n",
       "      <th>wifi</th>\n",
       "      <th>price_range</th>\n",
       "    </tr>\n",
       "  </thead>\n",
       "  <tbody>\n",
       "    <tr>\n",
       "      <th>0</th>\n",
       "      <td>842</td>\n",
       "      <td>0</td>\n",
       "      <td>2.2</td>\n",
       "      <td>0</td>\n",
       "      <td>1</td>\n",
       "      <td>0</td>\n",
       "      <td>7</td>\n",
       "      <td>0.6</td>\n",
       "      <td>188</td>\n",
       "      <td>2</td>\n",
       "      <td>...</td>\n",
       "      <td>20</td>\n",
       "      <td>756</td>\n",
       "      <td>2549</td>\n",
       "      <td>9</td>\n",
       "      <td>7</td>\n",
       "      <td>19</td>\n",
       "      <td>0</td>\n",
       "      <td>0</td>\n",
       "      <td>1</td>\n",
       "      <td>1</td>\n",
       "    </tr>\n",
       "    <tr>\n",
       "      <th>1</th>\n",
       "      <td>1021</td>\n",
       "      <td>1</td>\n",
       "      <td>0.5</td>\n",
       "      <td>1</td>\n",
       "      <td>0</td>\n",
       "      <td>1</td>\n",
       "      <td>53</td>\n",
       "      <td>0.7</td>\n",
       "      <td>136</td>\n",
       "      <td>3</td>\n",
       "      <td>...</td>\n",
       "      <td>905</td>\n",
       "      <td>1988</td>\n",
       "      <td>2631</td>\n",
       "      <td>17</td>\n",
       "      <td>3</td>\n",
       "      <td>7</td>\n",
       "      <td>1</td>\n",
       "      <td>1</td>\n",
       "      <td>0</td>\n",
       "      <td>2</td>\n",
       "    </tr>\n",
       "    <tr>\n",
       "      <th>2</th>\n",
       "      <td>563</td>\n",
       "      <td>1</td>\n",
       "      <td>0.5</td>\n",
       "      <td>1</td>\n",
       "      <td>2</td>\n",
       "      <td>1</td>\n",
       "      <td>41</td>\n",
       "      <td>0.9</td>\n",
       "      <td>145</td>\n",
       "      <td>5</td>\n",
       "      <td>...</td>\n",
       "      <td>1263</td>\n",
       "      <td>1716</td>\n",
       "      <td>2603</td>\n",
       "      <td>11</td>\n",
       "      <td>2</td>\n",
       "      <td>9</td>\n",
       "      <td>1</td>\n",
       "      <td>1</td>\n",
       "      <td>0</td>\n",
       "      <td>2</td>\n",
       "    </tr>\n",
       "    <tr>\n",
       "      <th>3</th>\n",
       "      <td>615</td>\n",
       "      <td>1</td>\n",
       "      <td>2.5</td>\n",
       "      <td>0</td>\n",
       "      <td>0</td>\n",
       "      <td>0</td>\n",
       "      <td>10</td>\n",
       "      <td>0.8</td>\n",
       "      <td>131</td>\n",
       "      <td>6</td>\n",
       "      <td>...</td>\n",
       "      <td>1216</td>\n",
       "      <td>1786</td>\n",
       "      <td>2769</td>\n",
       "      <td>16</td>\n",
       "      <td>8</td>\n",
       "      <td>11</td>\n",
       "      <td>1</td>\n",
       "      <td>0</td>\n",
       "      <td>0</td>\n",
       "      <td>2</td>\n",
       "    </tr>\n",
       "    <tr>\n",
       "      <th>4</th>\n",
       "      <td>1821</td>\n",
       "      <td>1</td>\n",
       "      <td>1.2</td>\n",
       "      <td>0</td>\n",
       "      <td>13</td>\n",
       "      <td>1</td>\n",
       "      <td>44</td>\n",
       "      <td>0.6</td>\n",
       "      <td>141</td>\n",
       "      <td>2</td>\n",
       "      <td>...</td>\n",
       "      <td>1208</td>\n",
       "      <td>1212</td>\n",
       "      <td>1411</td>\n",
       "      <td>8</td>\n",
       "      <td>2</td>\n",
       "      <td>15</td>\n",
       "      <td>1</td>\n",
       "      <td>1</td>\n",
       "      <td>0</td>\n",
       "      <td>1</td>\n",
       "    </tr>\n",
       "  </tbody>\n",
       "</table>\n",
       "<p>5 rows × 21 columns</p>\n",
       "</div>"
      ],
      "text/plain": [
       "   battery_power  blue  clock_speed  dual_sim  fc  four_g  int_memory  m_dep  \\\n",
       "0            842     0          2.2         0   1       0           7    0.6   \n",
       "1           1021     1          0.5         1   0       1          53    0.7   \n",
       "2            563     1          0.5         1   2       1          41    0.9   \n",
       "3            615     1          2.5         0   0       0          10    0.8   \n",
       "4           1821     1          1.2         0  13       1          44    0.6   \n",
       "\n",
       "   mobile_wt  n_cores  ...  px_height  px_width   ram  sc_h  sc_w  talk_time  \\\n",
       "0        188        2  ...         20       756  2549     9     7         19   \n",
       "1        136        3  ...        905      1988  2631    17     3          7   \n",
       "2        145        5  ...       1263      1716  2603    11     2          9   \n",
       "3        131        6  ...       1216      1786  2769    16     8         11   \n",
       "4        141        2  ...       1208      1212  1411     8     2         15   \n",
       "\n",
       "   three_g  touch_screen  wifi  price_range  \n",
       "0        0             0     1            1  \n",
       "1        1             1     0            2  \n",
       "2        1             1     0            2  \n",
       "3        1             0     0            2  \n",
       "4        1             1     0            1  \n",
       "\n",
       "[5 rows x 21 columns]"
      ]
     },
     "execution_count": 2,
     "metadata": {},
     "output_type": "execute_result"
    }
   ],
   "source": [
    "train=pd.read_csv(\"train.csv\")\n",
    "train.head()"
   ]
  },
  {
   "cell_type": "code",
   "execution_count": 3,
   "metadata": {
    "execution": {
     "iopub.execute_input": "2023-01-08T09:31:35.925708Z",
     "iopub.status.busy": "2023-01-08T09:31:35.924764Z",
     "iopub.status.idle": "2023-01-08T09:31:35.9339Z",
     "shell.execute_reply": "2023-01-08T09:31:35.93237Z",
     "shell.execute_reply.started": "2023-01-08T09:31:35.92567Z"
    }
   },
   "outputs": [],
   "source": [
    "train = train[np.isfinite(train).all(1)]"
   ]
  },
  {
   "cell_type": "code",
   "execution_count": 4,
   "metadata": {
    "execution": {
     "iopub.execute_input": "2023-01-08T09:31:35.936188Z",
     "iopub.status.busy": "2023-01-08T09:31:35.935734Z",
     "iopub.status.idle": "2023-01-08T09:31:35.94391Z",
     "shell.execute_reply": "2023-01-08T09:31:35.942774Z",
     "shell.execute_reply.started": "2023-01-08T09:31:35.936136Z"
    }
   },
   "outputs": [],
   "source": [
    "from sklearn.model_selection import train_test_split\n",
    "\n",
    "from sklearn.linear_model import LogisticRegression"
   ]
  },
  {
   "cell_type": "code",
   "execution_count": 5,
   "metadata": {
    "execution": {
     "iopub.execute_input": "2023-01-08T09:31:35.947563Z",
     "iopub.status.busy": "2023-01-08T09:31:35.946943Z",
     "iopub.status.idle": "2023-01-08T09:31:35.959966Z",
     "shell.execute_reply": "2023-01-08T09:31:35.958741Z",
     "shell.execute_reply.started": "2023-01-08T09:31:35.947498Z"
    }
   },
   "outputs": [],
   "source": [
    "x_data=train.drop([\"price_range\"],axis=1)\n",
    "y=train.price_range.values"
   ]
  },
  {
   "cell_type": "code",
   "execution_count": 6,
   "metadata": {
    "execution": {
     "iopub.execute_input": "2023-01-08T09:31:35.962557Z",
     "iopub.status.busy": "2023-01-08T09:31:35.96152Z",
     "iopub.status.idle": "2023-01-08T09:31:35.989171Z",
     "shell.execute_reply": "2023-01-08T09:31:35.987517Z",
     "shell.execute_reply.started": "2023-01-08T09:31:35.962515Z"
    }
   },
   "outputs": [
    {
     "data": {
      "text/plain": [
       "array([[8.41665331e+02, 0.00000000e+00, 2.00000000e+00, ...,\n",
       "        0.00000000e+00, 0.00000000e+00, 1.00000000e+00],\n",
       "       [1.02066533e+03, 1.00000000e+00, 3.00000000e-01, ...,\n",
       "        1.00000000e+00, 1.00000000e+00, 0.00000000e+00],\n",
       "       [5.62665331e+02, 1.00000000e+00, 3.00000000e-01, ...,\n",
       "        1.00000000e+00, 1.00000000e+00, 0.00000000e+00],\n",
       "       ...,\n",
       "       [1.91066533e+03, 0.00000000e+00, 7.00000000e-01, ...,\n",
       "        1.00000000e+00, 1.00000000e+00, 0.00000000e+00],\n",
       "       [1.51166533e+03, 0.00000000e+00, 7.00000000e-01, ...,\n",
       "        1.00000000e+00, 1.00000000e+00, 1.00000000e+00],\n",
       "       [5.09665331e+02, 1.00000000e+00, 1.80000000e+00, ...,\n",
       "        1.00000000e+00, 1.00000000e+00, 1.00000000e+00]])"
      ]
     },
     "execution_count": 6,
     "metadata": {},
     "output_type": "execute_result"
    }
   ],
   "source": [
    "x=(x_data-np.min(x_data)/(np.max(x_data)-np.min(x_data))).values   # normalization\n",
    "x"
   ]
  },
  {
   "cell_type": "code",
   "execution_count": 7,
   "metadata": {
    "execution": {
     "iopub.execute_input": "2023-01-08T09:31:35.992119Z",
     "iopub.status.busy": "2023-01-08T09:31:35.991713Z",
     "iopub.status.idle": "2023-01-08T09:31:36.004542Z",
     "shell.execute_reply": "2023-01-08T09:31:36.003489Z",
     "shell.execute_reply.started": "2023-01-08T09:31:35.992083Z"
    }
   },
   "outputs": [],
   "source": [
    "test=pd.read_csv(\"test.csv\")"
   ]
  },
  {
   "cell_type": "code",
   "execution_count": 8,
   "metadata": {
    "execution": {
     "iopub.execute_input": "2023-01-08T09:31:36.006937Z",
     "iopub.status.busy": "2023-01-08T09:31:36.006453Z",
     "iopub.status.idle": "2023-01-08T09:31:36.014808Z",
     "shell.execute_reply": "2023-01-08T09:31:36.013564Z",
     "shell.execute_reply.started": "2023-01-08T09:31:36.006862Z"
    }
   },
   "outputs": [
    {
     "data": {
      "text/plain": [
       "(1000, 21)"
      ]
     },
     "execution_count": 8,
     "metadata": {},
     "output_type": "execute_result"
    }
   ],
   "source": [
    "test.shape"
   ]
  },
  {
   "cell_type": "code",
   "execution_count": 9,
   "metadata": {
    "execution": {
     "iopub.execute_input": "2023-01-08T09:31:36.017117Z",
     "iopub.status.busy": "2023-01-08T09:31:36.016545Z",
     "iopub.status.idle": "2023-01-08T09:31:36.025233Z",
     "shell.execute_reply": "2023-01-08T09:31:36.024061Z",
     "shell.execute_reply.started": "2023-01-08T09:31:36.017069Z"
    }
   },
   "outputs": [
    {
     "data": {
      "text/plain": [
       "(2000, 21)"
      ]
     },
     "execution_count": 9,
     "metadata": {},
     "output_type": "execute_result"
    }
   ],
   "source": [
    "train.shape"
   ]
  },
  {
   "cell_type": "code",
   "execution_count": 10,
   "metadata": {
    "execution": {
     "iopub.execute_input": "2023-01-08T09:31:36.027869Z",
     "iopub.status.busy": "2023-01-08T09:31:36.0274Z",
     "iopub.status.idle": "2023-01-08T09:31:36.037647Z",
     "shell.execute_reply": "2023-01-08T09:31:36.036477Z",
     "shell.execute_reply.started": "2023-01-08T09:31:36.027833Z"
    }
   },
   "outputs": [],
   "source": [
    "x_train,x_test,y_train,y_test=train_test_split(x,y,test_size=0.10,random_state=42)"
   ]
  },
  {
   "cell_type": "code",
   "execution_count": 11,
   "metadata": {
    "execution": {
     "iopub.execute_input": "2023-01-08T09:31:36.039444Z",
     "iopub.status.busy": "2023-01-08T09:31:36.039105Z",
     "iopub.status.idle": "2023-01-08T09:31:36.049378Z",
     "shell.execute_reply": "2023-01-08T09:31:36.047829Z",
     "shell.execute_reply.started": "2023-01-08T09:31:36.039414Z"
    }
   },
   "outputs": [
    {
     "name": "stdout",
     "output_type": "stream",
     "text": [
      "x_train 1800\n",
      "x_test 200\n",
      "y_train 1800\n",
      "y_test 200\n"
     ]
    }
   ],
   "source": [
    "print(\"x_train\",len(x_train))\n",
    "print(\"x_test\",len(x_test))\n",
    "print(\"y_train\",len(y_train))\n",
    "print(\"y_test\",len(y_test))\n"
   ]
  },
  {
   "cell_type": "code",
   "execution_count": 12,
   "metadata": {
    "execution": {
     "iopub.execute_input": "2023-01-08T09:31:36.051904Z",
     "iopub.status.busy": "2023-01-08T09:31:36.051482Z",
     "iopub.status.idle": "2023-01-08T09:31:36.063563Z",
     "shell.execute_reply": "2023-01-08T09:31:36.062259Z",
     "shell.execute_reply.started": "2023-01-08T09:31:36.051845Z"
    }
   },
   "outputs": [],
   "source": [
    "lr=LogisticRegression()\n"
   ]
  },
  {
   "cell_type": "code",
   "execution_count": 13,
   "metadata": {
    "execution": {
     "iopub.execute_input": "2023-01-08T09:31:36.065432Z",
     "iopub.status.busy": "2023-01-08T09:31:36.065063Z",
     "iopub.status.idle": "2023-01-08T09:31:36.193111Z",
     "shell.execute_reply": "2023-01-08T09:31:36.191911Z",
     "shell.execute_reply.started": "2023-01-08T09:31:36.065399Z"
    }
   },
   "outputs": [
    {
     "name": "stderr",
     "output_type": "stream",
     "text": [
      "C:\\ProgramData\\Anaconda3\\lib\\site-packages\\sklearn\\linear_model\\_logistic.py:763: ConvergenceWarning: lbfgs failed to converge (status=1):\n",
      "STOP: TOTAL NO. of ITERATIONS REACHED LIMIT.\n",
      "\n",
      "Increase the number of iterations (max_iter) or scale the data as shown in:\n",
      "    https://scikit-learn.org/stable/modules/preprocessing.html\n",
      "Please also refer to the documentation for alternative solver options:\n",
      "    https://scikit-learn.org/stable/modules/linear_model.html#logistic-regression\n",
      "  n_iter_i = _check_optimize_result(\n"
     ]
    },
    {
     "data": {
      "text/plain": [
       "LogisticRegression()"
      ]
     },
     "execution_count": 13,
     "metadata": {},
     "output_type": "execute_result"
    }
   ],
   "source": [
    "lr.fit(x_train,y_train)"
   ]
  },
  {
   "cell_type": "code",
   "execution_count": 14,
   "metadata": {
    "execution": {
     "iopub.execute_input": "2023-01-08T09:31:36.197806Z",
     "iopub.status.busy": "2023-01-08T09:31:36.197415Z",
     "iopub.status.idle": "2023-01-08T09:31:36.20673Z",
     "shell.execute_reply": "2023-01-08T09:31:36.205309Z",
     "shell.execute_reply.started": "2023-01-08T09:31:36.197772Z"
    }
   },
   "outputs": [
    {
     "name": "stdout",
     "output_type": "stream",
     "text": [
      "Training Accuracy: % 62.83\n",
      "Testing Accuracy: % 70.5\n"
     ]
    }
   ],
   "source": [
    "acc_log_train = round(lr.score(x_train, y_train)*100,2) \n",
    "acc_log_test = round(lr.score(x_test,y_test)*100,2)\n",
    "print(\"Training Accuracy: % {}\".format(acc_log_train))\n",
    "print(\"Testing Accuracy: % {}\".format(acc_log_test))"
   ]
  },
  {
   "cell_type": "code",
   "execution_count": 15,
   "metadata": {
    "execution": {
     "iopub.execute_input": "2023-01-08T09:31:36.209087Z",
     "iopub.status.busy": "2023-01-08T09:31:36.208564Z",
     "iopub.status.idle": "2023-01-08T09:31:36.216389Z",
     "shell.execute_reply": "2023-01-08T09:31:36.215024Z",
     "shell.execute_reply.started": "2023-01-08T09:31:36.209041Z"
    }
   },
   "outputs": [],
   "source": [
    "from sklearn.neighbors import KNeighborsClassifier"
   ]
  },
  {
   "cell_type": "code",
   "execution_count": 16,
   "metadata": {
    "execution": {
     "iopub.execute_input": "2023-01-08T09:31:36.219155Z",
     "iopub.status.busy": "2023-01-08T09:31:36.218544Z",
     "iopub.status.idle": "2023-01-08T09:31:36.2289Z",
     "shell.execute_reply": "2023-01-08T09:31:36.227319Z",
     "shell.execute_reply.started": "2023-01-08T09:31:36.219109Z"
    }
   },
   "outputs": [],
   "source": [
    "knn=KNeighborsClassifier(n_neighbors=10)"
   ]
  },
  {
   "cell_type": "code",
   "execution_count": 17,
   "metadata": {
    "execution": {
     "iopub.execute_input": "2023-01-08T09:31:36.231546Z",
     "iopub.status.busy": "2023-01-08T09:31:36.230966Z",
     "iopub.status.idle": "2023-01-08T09:31:36.243673Z",
     "shell.execute_reply": "2023-01-08T09:31:36.242691Z",
     "shell.execute_reply.started": "2023-01-08T09:31:36.231499Z"
    }
   },
   "outputs": [
    {
     "data": {
      "text/plain": [
       "KNeighborsClassifier(n_neighbors=10)"
      ]
     },
     "execution_count": 17,
     "metadata": {},
     "output_type": "execute_result"
    }
   ],
   "source": [
    "knn.fit(x_train,y_train)"
   ]
  },
  {
   "cell_type": "code",
   "execution_count": 18,
   "metadata": {
    "execution": {
     "iopub.execute_input": "2023-01-08T09:31:36.245495Z",
     "iopub.status.busy": "2023-01-08T09:31:36.245136Z",
     "iopub.status.idle": "2023-01-08T09:31:36.286303Z",
     "shell.execute_reply": "2023-01-08T09:31:36.284413Z",
     "shell.execute_reply.started": "2023-01-08T09:31:36.245463Z"
    }
   },
   "outputs": [],
   "source": [
    "pred=knn.predict(x_test)"
   ]
  },
  {
   "cell_type": "code",
   "execution_count": 19,
   "metadata": {
    "execution": {
     "iopub.execute_input": "2023-01-08T09:31:36.290137Z",
     "iopub.status.busy": "2023-01-08T09:31:36.288985Z",
     "iopub.status.idle": "2023-01-08T09:31:36.333178Z",
     "shell.execute_reply": "2023-01-08T09:31:36.331412Z",
     "shell.execute_reply.started": "2023-01-08T09:31:36.290049Z"
    }
   },
   "outputs": [
    {
     "name": "stdout",
     "output_type": "stream",
     "text": [
      "10 nın score: 0.96 \n"
     ]
    }
   ],
   "source": [
    "print(\"{} nın score: {} \".format(10,knn.score(x_test,y_test)))"
   ]
  },
  {
   "cell_type": "code",
   "execution_count": 20,
   "metadata": {
    "execution": {
     "iopub.execute_input": "2023-01-08T09:31:36.336711Z",
     "iopub.status.busy": "2023-01-08T09:31:36.33584Z",
     "iopub.status.idle": "2023-01-08T09:31:36.346156Z",
     "shell.execute_reply": "2023-01-08T09:31:36.344562Z",
     "shell.execute_reply.started": "2023-01-08T09:31:36.33663Z"
    }
   },
   "outputs": [],
   "source": [
    "from sklearn.svm import SVC\n"
   ]
  },
  {
   "cell_type": "code",
   "execution_count": 21,
   "metadata": {
    "execution": {
     "iopub.execute_input": "2023-01-08T09:31:36.350668Z",
     "iopub.status.busy": "2023-01-08T09:31:36.349059Z",
     "iopub.status.idle": "2023-01-08T09:31:36.449688Z",
     "shell.execute_reply": "2023-01-08T09:31:36.448355Z",
     "shell.execute_reply.started": "2023-01-08T09:31:36.350606Z"
    }
   },
   "outputs": [
    {
     "data": {
      "text/plain": [
       "SVC(random_state=1)"
      ]
     },
     "execution_count": 21,
     "metadata": {},
     "output_type": "execute_result"
    }
   ],
   "source": [
    "svm=SVC(random_state=1)\n",
    "svm.fit(x_train,y_train)"
   ]
  },
  {
   "cell_type": "code",
   "execution_count": 22,
   "metadata": {
    "execution": {
     "iopub.execute_input": "2023-01-08T09:31:36.451326Z",
     "iopub.status.busy": "2023-01-08T09:31:36.450982Z",
     "iopub.status.idle": "2023-01-08T09:31:36.469224Z",
     "shell.execute_reply": "2023-01-08T09:31:36.467968Z",
     "shell.execute_reply.started": "2023-01-08T09:31:36.451295Z"
    }
   },
   "outputs": [
    {
     "name": "stdout",
     "output_type": "stream",
     "text": [
      "print svm accuracy: 0.965\n"
     ]
    }
   ],
   "source": [
    "print(\"print svm accuracy:\", svm.score(x_test,y_test))"
   ]
  },
  {
   "cell_type": "code",
   "execution_count": 23,
   "metadata": {
    "execution": {
     "iopub.execute_input": "2023-01-08T09:31:36.471061Z",
     "iopub.status.busy": "2023-01-08T09:31:36.470685Z",
     "iopub.status.idle": "2023-01-08T09:31:36.478861Z",
     "shell.execute_reply": "2023-01-08T09:31:36.477544Z",
     "shell.execute_reply.started": "2023-01-08T09:31:36.471029Z"
    }
   },
   "outputs": [],
   "source": [
    "from sklearn.naive_bayes import GaussianNB\n",
    "from sklearn.naive_bayes import BernoulliNB\n",
    "from sklearn.naive_bayes import CategoricalNB\n",
    "\n",
    "nb=GaussianNB()\n",
    "nb1=BernoulliNB()\n",
    "nb3=CategoricalNB()\n"
   ]
  },
  {
   "cell_type": "code",
   "execution_count": 24,
   "metadata": {
    "execution": {
     "iopub.execute_input": "2023-01-08T09:31:36.480848Z",
     "iopub.status.busy": "2023-01-08T09:31:36.480496Z",
     "iopub.status.idle": "2023-01-08T09:31:36.506287Z",
     "shell.execute_reply": "2023-01-08T09:31:36.50497Z",
     "shell.execute_reply.started": "2023-01-08T09:31:36.480817Z"
    }
   },
   "outputs": [
    {
     "data": {
      "text/plain": [
       "CategoricalNB()"
      ]
     },
     "execution_count": 24,
     "metadata": {},
     "output_type": "execute_result"
    }
   ],
   "source": [
    "nb.fit(x_train,y_train)\n",
    "nb1.fit(x_train,y_train)\n",
    "nb3.fit(x_train,y_train)\n"
   ]
  },
  {
   "cell_type": "code",
   "execution_count": 25,
   "metadata": {
    "execution": {
     "iopub.execute_input": "2023-01-08T09:31:36.508119Z",
     "iopub.status.busy": "2023-01-08T09:31:36.507614Z",
     "iopub.status.idle": "2023-01-08T09:31:36.519544Z",
     "shell.execute_reply": "2023-01-08T09:31:36.517945Z",
     "shell.execute_reply.started": "2023-01-08T09:31:36.508071Z"
    }
   },
   "outputs": [
    {
     "name": "stdout",
     "output_type": "stream",
     "text": [
      "GaussianNB accuracy: 0.825\n",
      "BernoulliNB accuracy: 0.18\n",
      "CategoricalNB accuracy: 0.265\n"
     ]
    }
   ],
   "source": [
    "print(\"GaussianNB accuracy:\", nb.score(x_test,y_test))\n",
    "print(\"BernoulliNB accuracy:\", nb1.score(x_test,y_test))\n",
    "print(\"CategoricalNB accuracy:\", nb3.score(x_test,y_test))"
   ]
  },
  {
   "cell_type": "code",
   "execution_count": 26,
   "metadata": {
    "execution": {
     "iopub.execute_input": "2023-01-08T09:31:36.521439Z",
     "iopub.status.busy": "2023-01-08T09:31:36.520923Z",
     "iopub.status.idle": "2023-01-08T09:31:36.54993Z",
     "shell.execute_reply": "2023-01-08T09:31:36.548587Z",
     "shell.execute_reply.started": "2023-01-08T09:31:36.521388Z"
    }
   },
   "outputs": [
    {
     "data": {
      "text/plain": [
       "DecisionTreeClassifier()"
      ]
     },
     "execution_count": 26,
     "metadata": {},
     "output_type": "execute_result"
    }
   ],
   "source": [
    "from sklearn.tree import DecisionTreeClassifier\n",
    "\n",
    "dt=DecisionTreeClassifier()\n",
    "\n",
    "dt.fit(x_train,y_train)"
   ]
  },
  {
   "cell_type": "code",
   "execution_count": 27,
   "metadata": {
    "execution": {
     "iopub.execute_input": "2023-01-08T09:31:36.55171Z",
     "iopub.status.busy": "2023-01-08T09:31:36.551358Z",
     "iopub.status.idle": "2023-01-08T09:31:36.559641Z",
     "shell.execute_reply": "2023-01-08T09:31:36.55858Z",
     "shell.execute_reply.started": "2023-01-08T09:31:36.551681Z"
    }
   },
   "outputs": [
    {
     "name": "stdout",
     "output_type": "stream",
     "text": [
      "Decision Tree Classifier Accuracy:  0.83\n"
     ]
    }
   ],
   "source": [
    "print(\"Decision Tree Classifier Accuracy: \", dt.score(x_test,y_test))"
   ]
  },
  {
   "cell_type": "code",
   "execution_count": 28,
   "metadata": {
    "execution": {
     "iopub.execute_input": "2023-01-08T09:31:36.561149Z",
     "iopub.status.busy": "2023-01-08T09:31:36.560724Z",
     "iopub.status.idle": "2023-01-08T09:31:36.571005Z",
     "shell.execute_reply": "2023-01-08T09:31:36.569995Z",
     "shell.execute_reply.started": "2023-01-08T09:31:36.561115Z"
    }
   },
   "outputs": [],
   "source": [
    "from sklearn.ensemble import RandomForestClassifier\n",
    "rf=RandomForestClassifier(n_estimators=100, random_state=1)"
   ]
  },
  {
   "cell_type": "code",
   "execution_count": 29,
   "metadata": {
    "execution": {
     "iopub.execute_input": "2023-01-08T09:31:36.573342Z",
     "iopub.status.busy": "2023-01-08T09:31:36.572941Z",
     "iopub.status.idle": "2023-01-08T09:31:37.051931Z",
     "shell.execute_reply": "2023-01-08T09:31:37.050975Z",
     "shell.execute_reply.started": "2023-01-08T09:31:36.573293Z"
    }
   },
   "outputs": [
    {
     "data": {
      "text/plain": [
       "RandomForestClassifier(random_state=1)"
      ]
     },
     "execution_count": 29,
     "metadata": {},
     "output_type": "execute_result"
    }
   ],
   "source": [
    "rf.fit(x_train,y_train)"
   ]
  },
  {
   "cell_type": "code",
   "execution_count": 30,
   "metadata": {
    "execution": {
     "iopub.execute_input": "2023-01-08T09:31:37.054115Z",
     "iopub.status.busy": "2023-01-08T09:31:37.05329Z",
     "iopub.status.idle": "2023-01-08T09:31:37.081902Z",
     "shell.execute_reply": "2023-01-08T09:31:37.080955Z",
     "shell.execute_reply.started": "2023-01-08T09:31:37.054074Z"
    }
   },
   "outputs": [
    {
     "name": "stdout",
     "output_type": "stream",
     "text": [
      "Random Forest Accuracy:  0.895\n"
     ]
    }
   ],
   "source": [
    "print(\"Random Forest Accuracy: \", rf.score(x_test,y_test))"
   ]
  }
 ],
 "metadata": {
  "kernelspec": {
   "display_name": "Python 3",
   "language": "python",
   "name": "python3"
  },
  "language_info": {
   "codemirror_mode": {
    "name": "ipython",
    "version": 3
   },
   "file_extension": ".py",
   "mimetype": "text/x-python",
   "name": "python",
   "nbconvert_exporter": "python",
   "pygments_lexer": "ipython3",
   "version": "3.8.8"
  }
 },
 "nbformat": 4,
 "nbformat_minor": 4
}
